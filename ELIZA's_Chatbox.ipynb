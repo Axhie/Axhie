{
  "nbformat": 4,
  "nbformat_minor": 0,
  "metadata": {
    "colab": {
      "provenance": [],
      "authorship_tag": "ABX9TyPxwAtH52/r9SWLrYoac/Gh",
      "include_colab_link": true
    },
    "kernelspec": {
      "name": "python3",
      "display_name": "Python 3"
    },
    "language_info": {
      "name": "python"
    }
  },
  "cells": [
    {
      "cell_type": "markdown",
      "metadata": {
        "id": "view-in-github",
        "colab_type": "text"
      },
      "source": [
        "<a href=\"https://colab.research.google.com/github/Axhie/Axhie/blob/main/ELIZA's_Chatbox.ipynb\" target=\"_parent\"><img src=\"https://colab.research.google.com/assets/colab-badge.svg\" alt=\"Open In Colab\"/></a>"
      ]
    },
    {
      "cell_type": "code",
      "execution_count": null,
      "metadata": {
        "id": "ClNhktreA6bb"
      },
      "outputs": [],
      "source": [
        "#This program emulates one of the first chat ELIZA. ELIZA is a computer program that emulates a Rogerian psychotherapist. \n",
        "#Brief Description of ELIZA:  Eliza simulated conversation by using a \"pattern matching\" and substitution methodology that gave users an illusion of understanding on the part of the program, but had no built in framework for contextualizing events"
      ]
    },
    {
      "cell_type": "code",
      "source": [
        "#import libraries"
      ],
      "metadata": {
        "id": "blpjaHBKChVv"
      },
      "execution_count": null,
      "outputs": []
    },
    {
      "cell_type": "code",
      "source": [
        "import re"
      ],
      "metadata": {
        "id": "RzcwxVfeChYM"
      },
      "execution_count": null,
      "outputs": []
    },
    {
      "cell_type": "code",
      "source": [
        "import random"
      ],
      "metadata": {
        "id": "mP8_E_WbC0wx"
      },
      "execution_count": null,
      "outputs": []
    },
    {
      "cell_type": "code",
      "source": [
        "#Creating a list of pre-defined responses similar to Eliza's by using a dictionary or a key value pair"
      ],
      "metadata": {
        "id": "3utKpq5EC0yv"
      },
      "execution_count": null,
      "outputs": []
    },
    {
      "cell_type": "code",
      "source": [
        "response = {\n",
        "    \"hello\":[\"Hello, how can I help you.\"],\n",
        "    \"i feel (.*)\":[\"Why do you feel {}?\" , \"How long have you been feeling{}?.\"],\n",
        "    \"i am (.*)\": [\"Why do you say you're {}?\" , \"How long have you been {}?\"],\n",
        "    \"i'm (.*)\": [\"Why are you {}?\" , \"How long have you been{}?\"],\n",
        "    \"i (.*) you\" : [\"Why do you {} me?\" , \"What makes you think you {} me?\"],\n",
        "    \"i (.*) myself\" : [\"Why do you {} yourself?\" , \"What makes you think you {} yourself?\"],\n",
        "    \"(.*) sorry (.*)\" : [\"There is no reason to apologize.\" , \"What are you apologizing for?\"],\n",
        "    \"(.*)  friend (.*)\" : [\"Tell me more about your friend.\" , \"How do your friends make you feel?\"],\n",
        "    \"yes\" : [\"You seem quite sure.\" , \"Ok, but can you elaborate.\"],\n",
        "    \"no\" : [\"why not?\" , \"Ok, but can you elaborate a bit?\"],\n",
        "    \" (.*) \" : [\"Please tell me more.\" , \"Let's change focus a bit... tell me about your family.\" , \"Can you elaborate on that?\"],\n",
        "    \"\" : [\"Why do you think that?\" , \"Please tell me more.\" , \"Let's change focus a bit... tell me about your family.\" , \"Can you elaborate on that?\"]\n",
        "}"
      ],
      "metadata": {
        "id": "vbl4ydBwC01U"
      },
      "execution_count": null,
      "outputs": []
    },
    {
      "cell_type": "code",
      "source": [
        "#Define a function to match the user's input to a pre-defined response"
      ],
      "metadata": {
        "id": "DLDo0SulQ2Wb"
      },
      "execution_count": null,
      "outputs": []
    },
    {
      "cell_type": "code",
      "source": [
        "def match_response(input_text):\n",
        "  #Create a for loop to iterate over the items of the 'response' dictionary.\n",
        "  for pattern, response_list in response.items():\n",
        "    matches = re.match(pattern, input_text.lower())\n",
        "    if matches:\n",
        "      chosen_response = random.choice(response_list)\n",
        "      return chosen_response.format(*matches.group())\n",
        "\n",
        " #There is no pattern match so return \"I'm sorry I don't underatand what you are saying.\"\n",
        "  return \"I'm sorry I don't underatand what you are saying.\"\n"
      ],
      "metadata": {
        "id": "0LgWzj_9RVrg"
      },
      "execution_count": null,
      "outputs": []
    },
    {
      "cell_type": "code",
      "source": [
        "#Create the main loop to start the chatbox\n",
        "print(\"Welcome to the Eliza Psychotherapist Chatbox\")\n",
        "while True:\n",
        "  user_input = input(\"You: \")\n",
        "  if user_input.lower() == \"bye\":\n",
        "    print(\"Eliza: Goodbye.\")\n",
        "    break\n",
        "  else:\n",
        "    print(\"Eliza: \"+match_response(user_input))"
      ],
      "metadata": {
        "colab": {
          "base_uri": "https://localhost:8080/"
        },
        "id": "3mKi6TCQWcTd",
        "outputId": "a56b4a4d-a5af-4b9b-8262-6b75eade7874"
      },
      "execution_count": null,
      "outputs": [
        {
          "output_type": "stream",
          "name": "stdout",
          "text": [
            "Welcome to the Eliza Psychotherapist Chatbox\n",
            "You: hello\n",
            "Eliza: Hello, how can I help you.\n",
            "You: i feel sad\n",
            "Eliza: How long have you been feelingi?.\n",
            "You: because it is late\n",
            "Eliza: Can you elaborate on that?\n",
            "You: i have no idea\n",
            "Eliza: Why do you think that?\n",
            "You: goodbye\n",
            "Eliza: Let's change focus a bit... tell me about your family.\n",
            "You: they are fine\n",
            "Eliza: Why do you think that?\n",
            "You: because i am happy\n",
            "Eliza: Let's change focus a bit... tell me about your family.\n",
            "You: yes\n",
            "Eliza: You seem quite sure.\n",
            "You: yes\n",
            "Eliza: You seem quite sure.\n",
            "You: bye\n",
            "Eliza: Goodbye.\n"
          ]
        }
      ]
    },
    {
      "cell_type": "code",
      "source": [],
      "metadata": {
        "id": "OnP6jduQXGut"
      },
      "execution_count": null,
      "outputs": []
    }
  ]
}